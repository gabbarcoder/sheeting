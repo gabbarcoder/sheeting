{
 "cells": [
  {
   "cell_type": "code",
   "execution_count": 8,
   "id": "c37ae704",
   "metadata": {},
   "outputs": [],
   "source": [
    "from collections import deque"
   ]
  },
  {
   "cell_type": "code",
   "execution_count": 9,
   "id": "67eb4ca9",
   "metadata": {},
   "outputs": [],
   "source": [
    "def BFS(a, b, target):\n",
    " \n",
    "    m = {}\n",
    "    isSolvable = False\n",
    "    path = []\n",
    " \n",
    "    q = deque()\n",
    " \n",
    "    q.append((0, 0))\n",
    " \n",
    "    while len(q) > 0:\n",
    " \n",
    "        u = q.popleft()\n",
    " \n",
    "        if (u[0], u[1]) in m:\n",
    "            continue\n",
    " \n",
    "        if u[0] > a or u[1] > b or u[0] < 0 or u[1] < 0:\n",
    "            continue\n",
    " \n",
    "        path.append([u[0], u[1]])\n",
    " \n",
    "        m[(u[0], u[1])] = 1\n",
    " \n",
    "        if u[0] == target or u[1] == target:\n",
    "            isSolvable = True\n",
    " \n",
    "            if u[0] == target:\n",
    "                if u[1] != 0:\n",
    " \n",
    "                    path.append([u[0], 0])\n",
    "            else:\n",
    "                if u[0] != 0:\n",
    " \n",
    "                    path.append([0, u[1]])\n",
    " \n",
    "            sz = len(path)\n",
    "            for i in range(sz):\n",
    "                print(\"(\", path[i][0], \",\", path[i][1], \")\")\n",
    "            break\n",
    " \n",
    "        q.append([u[0], b])  # Fill Jug2\n",
    "        q.append([a, u[1]])  # Fill Jug1\n",
    " \n",
    "        for ap in range(max(a, b) + 1):\n",
    " \n",
    "            c = u[0] + ap\n",
    "            d = u[1] - ap\n",
    " \n",
    "            if c == a or (d == 0 and d >= 0):\n",
    "                q.append([c, d])\n",
    " \n",
    "            c = u[0] - ap\n",
    "            d = u[1] + ap\n",
    " \n",
    "            if (c == 0 and c >= 0) or d == b:\n",
    "                q.append([c, d])\n",
    " \n",
    "        q.append([a, 0])\n",
    " \n",
    "        q.append([0, b])\n",
    " \n",
    "    if not isSolvable:\n",
    "        print(\"No solution\")"
   ]
  },
  {
   "cell_type": "code",
   "execution_count": 15,
   "id": "795cacd3",
   "metadata": {},
   "outputs": [
    {
     "name": "stdout",
     "output_type": "stream",
     "text": [
      "( 0 , 0 )\n",
      "( 0 , 1 )\n",
      "( 4 , 0 )\n",
      "( 4 , 1 )\n",
      "( 1 , 0 )\n",
      "( 3 , 1 )\n",
      "( 3 , 0 )\n"
     ]
    }
   ],
   "source": [
    "BFS(4, 1, 3)"
   ]
  },
  {
   "cell_type": "code",
   "execution_count": null,
   "id": "218fbc83",
   "metadata": {},
   "outputs": [],
   "source": []
  }
 ],
 "metadata": {
  "kernelspec": {
   "display_name": "Python 3 (ipykernel)",
   "language": "python",
   "name": "python3"
  },
  "language_info": {
   "codemirror_mode": {
    "name": "ipython",
    "version": 3
   },
   "file_extension": ".py",
   "mimetype": "text/x-python",
   "name": "python",
   "nbconvert_exporter": "python",
   "pygments_lexer": "ipython3",
   "version": "3.9.12"
  }
 },
 "nbformat": 4,
 "nbformat_minor": 5
}
