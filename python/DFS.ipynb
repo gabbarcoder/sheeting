{
  "cells": [
    {
      "cell_type": "code",
      "execution_count": null,
      "id": "e85c6fac",
      "metadata": {
        "colab": {
          "base_uri": "https://localhost:8080/"
        },
        "id": "e85c6fac",
        "outputId": "dd4bd78f-c7ea-41ab-f15b-0f0efaad4bf1"
      },
      "outputs": [
        {
          "name": "stdout",
          "output_type": "stream",
          "text": [
            "DFS IMPLEMENTATION\n"
          ]
        }
      ],
      "source": [
        "print(\"DFS IMPLEMENTATION\")"
      ]
    },
    {
      "cell_type": "code",
      "execution_count": null,
      "id": "BoNn7YpZxl5G",
      "metadata": {
        "colab": {
          "base_uri": "https://localhost:8080/"
        },
        "id": "BoNn7YpZxl5G",
        "outputId": "0eac573c-f4fa-43ab-9488-4761bbb89b51"
      },
      "outputs": [
        {
          "name": "stdout",
          "output_type": "stream",
          "text": [
            "DFS traversal starting from node 1:\n",
            "1 2 4 5 3 6 7 "
          ]
        }
      ],
      "source": [
        "class Graph:\n",
        "    def __init__(self):\n",
        "        self.graph = {}\n",
        "\n",
        "    def add_edge(self, u, v):\n",
        "        if u not in self.graph:\n",
        "            self.graph[u] = []\n",
        "        self.graph[u].append(v)\n",
        "\n",
        "    def dfs(self, start):\n",
        "        visited = set()\n",
        "\n",
        "        def dfs_util(node):\n",
        "            visited.add(node)\n",
        "            print(node, end=\" \")\n",
        "\n",
        "            if node in self.graph:\n",
        "                for neighbor in self.graph[node]:\n",
        "                    if neighbor not in visited:\n",
        "                        dfs_util(neighbor)\n",
        "\n",
        "        dfs_util(start)\n",
        "\n",
        "\n",
        "\n",
        "g = Graph()\n",
        "\n",
        "\n",
        "g.add_edge(1, 2)\n",
        "g.add_edge(1, 3)\n",
        "g.add_edge(2, 4)\n",
        "g.add_edge(2, 5)\n",
        "g.add_edge(3, 6)\n",
        "g.add_edge(3, 7)\n",
        "\n",
        "\n",
        "print(\"DFS traversal starting from node 1:\")\n",
        "g.dfs(1)\n"
      ]
    }
  ],
  "metadata": {
    "colab": {
      "provenance": []
    },
    "kernelspec": {
      "display_name": "Python 3 (ipykernel)",
      "language": "python",
      "name": "python3"
    },
    "language_info": {
      "codemirror_mode": {
        "name": "ipython",
        "version": 3
      },
      "file_extension": ".py",
      "mimetype": "text/x-python",
      "name": "python",
      "nbconvert_exporter": "python",
      "pygments_lexer": "ipython3",
      "version": "3.9.12"
    }
  },
  "nbformat": 4,
  "nbformat_minor": 5
}
