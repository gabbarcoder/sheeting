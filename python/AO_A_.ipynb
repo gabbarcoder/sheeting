{
  "cells": [
    {
      "cell_type": "code",
      "execution_count": 1,
      "id": "uvR0VMRP7QOV",
      "metadata": {
        "colab": {
          "base_uri": "https://localhost:8080/"
        },
        "id": "uvR0VMRP7QOV",
        "outputId": "65ee9f6d-a886-4833-add3-5a0560151e42"
      },
      "outputs": [
        {
          "name": "stdout",
          "output_type": "stream",
          "text": [
            "Path found: ['A', 'F', 'G', 'I', 'J']\n"
          ]
        },
        {
          "data": {
            "text/plain": [
              "['A', 'F', 'G', 'I', 'J']"
            ]
          },
          "execution_count": 1,
          "metadata": {},
          "output_type": "execute_result"
        }
      ],
      "source": [
        "def aStarAlgo(start_node, stop_node):\n",
        "    open_set = set(start_node)\n",
        "    closed_set = set()\n",
        "    g = {}\n",
        "    parents = {}\n",
        "    g[start_node] = 0\n",
        "    parents[start_node] = start_node\n",
        "\n",
        "    while len(open_set) > 0:\n",
        "        n = None\n",
        "        for v in open_set:\n",
        "            if n == None or g[v] + heuristic(v) < g[n] + heuristic(n):\n",
        "                n = v\n",
        "\n",
        "        if n == stop_node or Graph_nodes[n] == None:\n",
        "            pass\n",
        "        else:\n",
        "            for (m, weight) in get_neighbors(n):\n",
        "                if m not in open_set and m not in closed_set:\n",
        "                    open_set.add(m)\n",
        "                    parents[m] = n\n",
        "                    g[m] = g[n] + weight\n",
        "                else:\n",
        "                    if g[m] > g[n] + weight:\n",
        "                        g[m] = g[n] + weight\n",
        "                        parents[m] = n\n",
        "\n",
        "        if m in closed_set:\n",
        "            closed_set.remove(m)\n",
        "            open_set.add(m)\n",
        "\n",
        "        if n == None:\n",
        "            print('Path does not exist!')\n",
        "            return None\n",
        "\n",
        "        if n == stop_node:\n",
        "            path = []\n",
        "            while parents[n] != n:\n",
        "                path.append(n)\n",
        "                n = parents[n]\n",
        "            path.append(start_node)\n",
        "            path.reverse()\n",
        "            print('Path found: {}'.format(path))\n",
        "            return path\n",
        "\n",
        "        open_set.remove(n)\n",
        "        closed_set.add(n)\n",
        "\n",
        "    print('Path does not exist!')\n",
        "    return None\n",
        "\n",
        "\n",
        "def get_neighbors(v):\n",
        "    if v in Graph_nodes:\n",
        "        return Graph_nodes[v]\n",
        "    else:\n",
        "        return None\n",
        "\n",
        "\n",
        "def heuristic(n):\n",
        "    H_dist = {\n",
        "        'A': 11,\n",
        "        'B': 6,\n",
        "        'C': 5,\n",
        "        'D': 7,\n",
        "        'E': 3,\n",
        "        'F': 6,\n",
        "        'G': 5,\n",
        "        'H': 3,\n",
        "        'I': 1,\n",
        "        'J': 0\n",
        "    }\n",
        "    return H_dist[n]\n",
        "\n",
        "\n",
        "Graph_nodes = {\n",
        "    'A': [('B', 6), ('F', 3)],\n",
        "    'B': [('A', 6), ('C', 3), ('D', 2)],\n",
        "    'C': [('B', 3), ('D', 1), ('E', 5)],\n",
        "    'D': [('B', 2), ('C', 1), ('E', 8)],\n",
        "    'E': [('C', 5), ('D', 8), ('I', 5), ('J', 5)],\n",
        "    'F': [('A', 3), ('G', 1), ('H', 7)],\n",
        "    'G': [('F', 1), ('I', 3)],\n",
        "    'H': [('F', 7), ('I', 2)],\n",
        "    'I': [('E', 5), ('G', 3), ('H', 2), ('J', 3)],\n",
        "}\n",
        "\n",
        "aStarAlgo('A', 'J')"
      ]
    },
    {
      "cell_type": "code",
      "execution_count": 2,
      "id": "qAkmVrbA8LBt",
      "metadata": {
        "colab": {
          "base_uri": "https://localhost:8080/"
        },
        "id": "qAkmVrbA8LBt",
        "outputId": "576755cd-9d33-447d-edb0-d96247a9329d"
      },
      "outputs": [
        {
          "name": "stdout",
          "output_type": "stream",
          "text": [
            "Updated Cost:\n",
            "D : {'OR': ['J']} >>> {'J': 1}\n",
            "C : {'OR': ['G'], 'AND': ['H', 'I']} >>> {'H AND I': 2, 'G': 4}\n",
            "B : {'OR': ['E', 'F']} >>> {'E OR F': 8}\n",
            "A : {'OR': ['B'], 'AND': ['C', 'D']} >>> {'C AND D': 5, 'B': 9}\n",
            "***************************************************************************\n",
            "Shortest Path:\n",
            " A<--(C AND D) [C<--(H AND I) [H + I] + D<--J]\n"
          ]
        }
      ],
      "source": [
        "def Cost(H, condition, weight=1):\n",
        "    cost = {}\n",
        "    if 'AND' in condition:\n",
        "        AND_nodes = condition['AND']\n",
        "        Path_A = ' AND '.join(AND_nodes)\n",
        "        PathA = sum(H[node] + weight for node in AND_nodes)\n",
        "        cost[Path_A] = PathA\n",
        "    if 'OR' in condition:\n",
        "        OR_nodes = condition['OR']\n",
        "        Path_B = ' OR '.join(OR_nodes)\n",
        "        PathB = min(H[node] + weight for node in OR_nodes)\n",
        "        cost[Path_B] = PathB\n",
        "    return cost\n",
        "\n",
        "\n",
        "def update_cost(H, Conditions, weight=1):\n",
        "    Main_nodes = list(Conditions.keys())\n",
        "    Main_nodes.reverse()\n",
        "    least_cost = {}\n",
        "    for key in Main_nodes:\n",
        "        condition = Conditions[key]\n",
        "        print(key, ':', Conditions[key], '>>>', Cost(H, condition, weight))\n",
        "        c = Cost(H, condition, weight)\n",
        "        H[key] = min(c.values())\n",
        "        least_cost[key] = Cost(H, condition, weight)\n",
        "    return least_cost\n",
        "\n",
        "\n",
        "def shortest_path(Start, Updated_cost, H):\n",
        "    Path = Start\n",
        "    if Start in Updated_cost.keys():\n",
        "        Min_cost = min(Updated_cost[Start].values())\n",
        "        key = list(Updated_cost[Start].keys())\n",
        "        values = list(Updated_cost[Start].values())\n",
        "        Index = values.index(Min_cost)\n",
        "        Next = key[Index].split()\n",
        "        if len(Next) == 1:\n",
        "            Start = Next[0]\n",
        "            Path += '<--' + shortest_path(Start, Updated_cost, H)\n",
        "        else:\n",
        "            Path += '<--(' + key[Index] + ') '\n",
        "            Start = Next[0]\n",
        "            Path += '[' + shortest_path(Start, Updated_cost, H) + ' + '\n",
        "            Start = Next[-1]\n",
        "            Path += shortest_path(Start, Updated_cost, H) + ']'\n",
        "    return Path\n",
        "\n",
        "\n",
        "H = {'A': -1, 'B': 5, 'C': 2, 'D': 4, 'E': 7,\n",
        "     'F': 9, 'G': 3, 'H': 0, 'I': 0, 'J': 0}\n",
        "Conditions = {\n",
        "    'A': {'OR': ['B'], 'AND': ['C', 'D']},\n",
        "    'B': {'OR': ['E', 'F']},\n",
        "    'C': {'OR': ['G'], 'AND': ['H', 'I']},\n",
        "    'D': {'OR': ['J']}\n",
        "}\n",
        "weight = 1\n",
        "\n",
        "print('Updated Cost:')\n",
        "Updated_cost = update_cost(H, Conditions, weight=1)\n",
        "print('*' * 75)\n",
        "print('Shortest Path:\\n', shortest_path('A', Updated_cost, H))"
      ]
    }
  ],
  "metadata": {
    "colab": {
      "provenance": []
    },
    "kernelspec": {
      "display_name": "Python 3 (ipykernel)",
      "language": "python",
      "name": "python3"
    },
    "language_info": {
      "codemirror_mode": {
        "name": "ipython",
        "version": 3
      },
      "file_extension": ".py",
      "mimetype": "text/x-python",
      "name": "python",
      "nbconvert_exporter": "python",
      "pygments_lexer": "ipython3",
      "version": "3.9.12"
    }
  },
  "nbformat": 4,
  "nbformat_minor": 5
}
