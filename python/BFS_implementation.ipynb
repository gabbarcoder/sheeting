{
 "cells": [
  {
   "cell_type": "code",
   "execution_count": 1,
   "id": "6745338e",
   "metadata": {},
   "outputs": [
    {
     "name": "stdout",
     "output_type": "stream",
     "text": [
      "BFS implementation\n"
     ]
    }
   ],
   "source": [
    "print(\"BFS implementation\")"
   ]
  },
  {
   "cell_type": "code",
   "execution_count": 5,
   "id": "58c248bd",
   "metadata": {},
   "outputs": [
    {
     "name": "stdout",
     "output_type": "stream",
     "text": [
      "['A', 'B', 'D', 'C', 'E', 'F', 'G', 'H']\n"
     ]
    }
   ],
   "source": [
    "from queue import Queue\n",
    "adj_list = {\n",
    "    \"A\":[\"B\", \"D\"],\n",
    "    \"B\":[\"A\", \"C\"],\n",
    "    \"C\":[\"B\"],\n",
    "    \"D\": [\"A\", \"E\", \"F\"],\n",
    "    \"E\":[\"D\", \"F\", \"G\"],\n",
    "    \"F\":[\"D\", \"E\", \"H\"],\n",
    "    \"G\":[\"E\", \"H\"],\n",
    "    \"H\":[\"G\", \"F\"]\n",
    "}\n",
    "# bfs code\n",
    "visited = {}\n",
    "level = {} # distance dictionary\n",
    "parent = {}\n",
    "bfs_traversal_output = []\n",
    "queue= Queue ()\n",
    "\n",
    "for node in adj_list.keys():\n",
    "    visited[node] = False\n",
    "    parent [node] = None\n",
    "    level [node] = -1 #inf\n",
    "    \n",
    "s = \"A\"\n",
    "visited[s] = True\n",
    "level [s] = 0\n",
    "queue.put(s)\n",
    "    \n",
    "while not queue.empty():\n",
    "    u = queue.get()\n",
    "    bfs_traversal_output.append (u)\n",
    "    \n",
    "    for v in adj_list[u]:\n",
    "        if not visited[v]:\n",
    "            visited[v] = True\n",
    "            parent [v] = u\n",
    "            level [v] = level [u] +1\n",
    "            queue.put (v)\n",
    "print(bfs_traversal_output)"
   ]
  },
  {
   "cell_type": "code",
   "execution_count": 6,
   "id": "f1d53260",
   "metadata": {},
   "outputs": [
    {
     "name": "stdout",
     "output_type": "stream",
     "text": [
      "3\n"
     ]
    }
   ],
   "source": [
    "print(level[\"G\"])"
   ]
  },
  {
   "cell_type": "code",
   "execution_count": 8,
   "id": "cbe5742b",
   "metadata": {},
   "outputs": [
    {
     "name": "stdout",
     "output_type": "stream",
     "text": [
      "['A', 'D', 'E', 'G']\n"
     ]
    }
   ],
   "source": [
    "v = \"G\"\n",
    "path = []\n",
    "while v is not None:\n",
    "    path.append(v)\n",
    "    v = parent [v]\n",
    "path.reverse()\n",
    "print (path)"
   ]
  },
  {
   "cell_type": "code",
   "execution_count": null,
   "id": "e85c6fac",
   "metadata": {},
   "outputs": [],
   "source": []
  }
 ],
 "metadata": {
  "kernelspec": {
   "display_name": "Python 3 (ipykernel)",
   "language": "python",
   "name": "python3"
  },
  "language_info": {
   "codemirror_mode": {
    "name": "ipython",
    "version": 3
   },
   "file_extension": ".py",
   "mimetype": "text/x-python",
   "name": "python",
   "nbconvert_exporter": "python",
   "pygments_lexer": "ipython3",
   "version": "3.9.12"
  }
 },
 "nbformat": 4,
 "nbformat_minor": 5
}
